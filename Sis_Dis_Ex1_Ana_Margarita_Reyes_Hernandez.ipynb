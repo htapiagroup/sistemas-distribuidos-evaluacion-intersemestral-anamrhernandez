{
  "nbformat": 4,
  "nbformat_minor": 0,
  "metadata": {
    "colab": {
      "name": "Sis_Dis_Ex1_Ana_Margarita_Reyes_Hernandez.ipynb",
      "version": "0.3.2",
      "provenance": [],
      "private_outputs": true,
      "include_colab_link": true
    },
    "kernelspec": {
      "name": "python3",
      "display_name": "Python 3"
    }
  },
  "cells": [
    {
      "cell_type": "markdown",
      "metadata": {
        "id": "view-in-github",
        "colab_type": "text"
      },
      "source": [
        "<a href=\"https://colab.research.google.com/github/htapiagroup/sistemas-distribuidos-evaluacion-intersemestral-anamrhernandez/blob/master/Sis_Dis_Ex1_Ana_Margarita_Reyes_Hernandez.ipynb\" target=\"_parent\"><img src=\"https://colab.research.google.com/assets/colab-badge.svg\" alt=\"Open In Colab\"/></a>"
      ]
    },
    {
      "cell_type": "markdown",
      "metadata": {
        "id": "Vb2tabeR1Tg6",
        "colab_type": "text"
      },
      "source": [
        "Primer examen parcial Sistemas Distribuidos II\n",
        "\n",
        "Trabajando con Pandas Evaluando lo aprendido en esta unidad."
      ]
    },
    {
      "cell_type": "markdown",
      "metadata": {
        "id": "FQ1LdGM72DwZ",
        "colab_type": "text"
      },
      "source": [
        "## Nombre: Ana Margarita Reyes Hernandez\n",
        "\n",
        "###En colaboracion:\n",
        "\n",
        "###Luis Daniel Hernandez Jimenez,\n",
        "\n",
        "###Samuel Báez Herrera,\n",
        "\n",
        "###Jose David Cobos Trujillo,\n",
        "\n",
        "###Lorrain Eugenio Giddings Soto,\n",
        "\n",
        "###Yoselin Araceli Campos Sacramento,\n",
        "\n",
        "###Joaquin Aguilar Hernandez,\n",
        "\n",
        "###Georgina Valenzuela Carrasco,\n",
        "\n",
        "### Horacio Tapia McClung\n",
        "\n",
        "\n",
        "\n"
      ]
    },
    {
      "cell_type": "markdown",
      "metadata": {
        "id": "JY4-AWK83mPQ",
        "colab_type": "text"
      },
      "source": [
        "# Punto número 1"
      ]
    },
    {
      "cell_type": "markdown",
      "metadata": {
        "id": "oBt2aqXC2uvt",
        "colab_type": "text"
      },
      "source": [
        "####Importacion  de librerias."
      ]
    },
    {
      "cell_type": "code",
      "metadata": {
        "id": "0OuzG1u-km9t",
        "colab_type": "code",
        "colab": {}
      },
      "source": [
        "import pandas as pd, time\n",
        "import psutil, os"
      ],
      "execution_count": 0,
      "outputs": []
    },
    {
      "cell_type": "markdown",
      "metadata": {
        "id": "3dOVcZ-B3Aja",
        "colab_type": "text"
      },
      "source": [
        "# Punto 1.\n",
        "\n",
        "####Descarga de datos .csv comprimidos."
      ]
    },
    {
      "cell_type": "code",
      "metadata": {
        "id": "p9-d4Uiqk3Si",
        "colab_type": "code",
        "colab": {}
      },
      "source": [
        "!wget https://archive.org/download/nycTaxiTripData2013/trip_data.7z"
      ],
      "execution_count": 0,
      "outputs": []
    },
    {
      "cell_type": "markdown",
      "metadata": {
        "id": "u32GfbLs2_Ma",
        "colab_type": "text"
      },
      "source": [
        "\n",
        "#Punto 2.\n",
        "####Descomprimiendo datos.\n",
        "\n",
        "\n",
        "\n",
        "\n",
        "\n",
        "\n",
        "\n",
        "\n",
        "\n",
        "\n",
        "\n",
        "\n",
        "\n",
        "\n",
        "\n"
      ]
    },
    {
      "cell_type": "code",
      "metadata": {
        "id": "riIEIcX2k3bC",
        "colab_type": "code",
        "colab": {}
      },
      "source": [
        "!7z e /content/trip_data.7z -o/content/ trip_data_1.csv"
      ],
      "execution_count": 0,
      "outputs": []
    },
    {
      "cell_type": "markdown",
      "metadata": {
        "id": "UHXiCrMAyQ31",
        "colab_type": "text"
      },
      "source": [
        "## Punto 3\n",
        "\n",
        "Cuantas columnas contiene cada archivo de datos descomprimido = 14\n",
        "\n",
        "Cuantos renglones tiene cada archivo = 14776615"
      ]
    },
    {
      "cell_type": "code",
      "metadata": {
        "id": "oOOMg9eDsQsn",
        "colab_type": "code",
        "colab": {}
      },
      "source": [
        "df.shape"
      ],
      "execution_count": 0,
      "outputs": []
    },
    {
      "cell_type": "markdown",
      "metadata": {
        "id": "Cqs_lZa7yoEZ",
        "colab_type": "text"
      },
      "source": [
        "## Punto 4\n",
        "\n",
        "####Indicar claramente cuantos son los renglones con errores y a que archivos corresponden store_and_fwd_flag = 7326207 para el archivo trip_data_1.csv\n",
        "\n",
        "####crear un nuevo conjunto de datos con los errores eliminado\n",
        "\n",
        "####En los proximos rnglones se visualizara el codigo que permitio llegar  a los dosatos expuestos aqui mismo. "
      ]
    },
    {
      "cell_type": "code",
      "metadata": {
        "id": "RfQx53MgAShB",
        "colab_type": "code",
        "colab": {}
      },
      "source": [
        ""
      ],
      "execution_count": 0,
      "outputs": []
    },
    {
      "cell_type": "code",
      "metadata": {
        "id": "c4Sl0kzSyxe-",
        "colab_type": "code",
        "colab": {}
      },
      "source": [
        "df.isna().sum()"
      ],
      "execution_count": 0,
      "outputs": []
    },
    {
      "cell_type": "markdown",
      "metadata": {
        "id": "A2gnzpB3zKWR",
        "colab_type": "text"
      },
      "source": [
        "Borrar valores null."
      ]
    },
    {
      "cell_type": "code",
      "metadata": {
        "id": "ZTFFO45nzQGn",
        "colab_type": "code",
        "colab": {}
      },
      "source": [
        "df = df.dropna(how='all', subset=['dropoff_longitude', 'dropoff_latitude'])"
      ],
      "execution_count": 0,
      "outputs": []
    },
    {
      "cell_type": "code",
      "metadata": {
        "id": "beb1QTgzzkIu",
        "colab_type": "code",
        "colab": {}
      },
      "source": [
        "df.isna().sum()"
      ],
      "execution_count": 0,
      "outputs": []
    },
    {
      "cell_type": "code",
      "metadata": {
        "id": "fOkn_RWrzpVP",
        "colab_type": "code",
        "colab": {}
      },
      "source": [
        "df.shape"
      ],
      "execution_count": 0,
      "outputs": []
    },
    {
      "cell_type": "markdown",
      "metadata": {
        "id": "-lSyIHBwz9V4",
        "colab_type": "text"
      },
      "source": [
        "pasajeros levantados por los taxistas."
      ]
    },
    {
      "cell_type": "code",
      "metadata": {
        "id": "gBazqSOQz-Hb",
        "colab_type": "code",
        "colab": {}
      },
      "source": [
        "df['passenger_count'].value_counts()"
      ],
      "execution_count": 0,
      "outputs": []
    },
    {
      "cell_type": "markdown",
      "metadata": {
        "id": "HQFAW17jvzd9",
        "colab_type": "text"
      },
      "source": [
        "## Punto 5\n",
        "\n",
        "####Fue necesario crerar este punto primro ya que se requeria contar con el Data fraem para la lectura del archivo a trabajar, aqui se extresan los valores resultantes.\n",
        "\n",
        "####Indicar el tiempo en segundos, que tarda la libreria pandas en leer un archivo a un DataFrame = 45.03836941719055 s\n",
        "\n",
        "####Cual es la huella de memoria del proceso usado para generar el objeto DataFrame = 5109.40625 mb\n",
        "\n",
        "#### Cuanta memoria del sistema se usa para crear el objeto anterior = 4965.8046875\n",
        "\n",
        "####Indicar el tiempo que tarda pandas en obtener el promedio de la\n",
        "####distancia de viaje (trip_distance) =0.025051593780517578 s"
      ]
    },
    {
      "cell_type": "code",
      "metadata": {
        "id": "l1uxo-OBtcUO",
        "colab_type": "code",
        "colab": {}
      },
      "source": [
        "def huella_de_memoria():\n",
        "  '''Regresa la momoria usada por el proceso de python'''\n",
        "  mem = psutil.Process(os.getpid()).memory_info().rss\n",
        "  return (mem / 1024**2)"
      ],
      "execution_count": 0,
      "outputs": []
    },
    {
      "cell_type": "code",
      "metadata": {
        "id": "ayZPRTNitc0V",
        "colab_type": "code",
        "colab": {}
      },
      "source": [
        "huella_inicio = huella_de_memoria()"
      ],
      "execution_count": 0,
      "outputs": []
    },
    {
      "cell_type": "code",
      "metadata": {
        "id": "Aa63ujCitcvF",
        "colab_type": "code",
        "colab": {}
      },
      "source": [
        "huella_inicio"
      ],
      "execution_count": 0,
      "outputs": []
    },
    {
      "cell_type": "code",
      "metadata": {
        "id": "XG7aBefttcoK",
        "colab_type": "code",
        "colab": {}
      },
      "source": [
        "t_start = time.time()\n",
        "df = pd.read_csv('trip_data_1.csv')\n",
        "t_end = time.time()\n",
        "print('pd.read_csv(): {} s'.format(t_end-t_start)) # time [s]"
      ],
      "execution_count": 0,
      "outputs": []
    },
    {
      "cell_type": "code",
      "metadata": {
        "id": "CtwQT8hzvZLO",
        "colab_type": "code",
        "colab": {}
      },
      "source": [
        "huella_fin = huella_de_memoria()"
      ],
      "execution_count": 0,
      "outputs": []
    },
    {
      "cell_type": "code",
      "metadata": {
        "id": "snMQH5nFvR2W",
        "colab_type": "code",
        "colab": {}
      },
      "source": [
        "huella_fin"
      ],
      "execution_count": 0,
      "outputs": []
    },
    {
      "cell_type": "code",
      "metadata": {
        "id": "8f2S5Dx8wjSU",
        "colab_type": "code",
        "colab": {}
      },
      "source": [
        "print(huella_fin - huella_inicio)"
      ],
      "execution_count": 0,
      "outputs": []
    },
    {
      "cell_type": "markdown",
      "metadata": {
        "id": "uzV-VTGaxRVx",
        "colab_type": "text"
      },
      "source": [
        "Obtener el tiempo que tarda pandas en obtener el promedio de trip_distance"
      ]
    },
    {
      "cell_type": "code",
      "metadata": {
        "id": "XGRK8fimw4em",
        "colab_type": "code",
        "colab": {}
      },
      "source": [
        "t_start = time.time()\n",
        "df = pd.read_csv('trip_data_1.csv')\n",
        "t_end = time.time()\n",
        "print('pd.read_csv(): {} s'.format(t_end-t_start)) # time [s]"
      ],
      "execution_count": 0,
      "outputs": []
    },
    {
      "cell_type": "markdown",
      "metadata": {
        "id": "JCjuSe-Rxz5p",
        "colab_type": "text"
      },
      "source": [
        "obtener todos los valores que  no cuentan con valor relevante."
      ]
    },
    {
      "cell_type": "code",
      "metadata": {
        "id": "Tez_IKTXxb20",
        "colab_type": "code",
        "colab": {}
      },
      "source": [
        "diferente_cero = (df['trip_distance'] != 0.0)"
      ],
      "execution_count": 0,
      "outputs": []
    },
    {
      "cell_type": "code",
      "metadata": {
        "id": "kPuY8OdmxKC-",
        "colab_type": "code",
        "colab": {}
      },
      "source": [
        "#%%time\n",
        "inicio = time.time()\n",
        "diferente_cero.mean()\n",
        "fin = time.time()\n",
        "print('Tiempo que tarda pandas en optener el promedio en segundos del viaje'.format(fin-inicio))"
      ],
      "execution_count": 0,
      "outputs": []
    }
  ]
}